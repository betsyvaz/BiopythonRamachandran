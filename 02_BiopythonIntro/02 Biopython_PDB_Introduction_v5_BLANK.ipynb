{
 "cells": [
  {
   "cell_type": "markdown",
   "metadata": {},
   "source": [
    "#  <font color = 545AA7> Introduction to PDB Files and Biopython </font>\n",
    "\n",
    "For this activity, we will exam the structures of proteins in **PDB (Protein Data Bank) files** using the **biopython** library. The goals of this activity are listed below:\n",
    "\n",
    "- Examine the structure of a PDB file\n",
    "- Download a PDB file from the Protein Data Bank\n",
    "- Use biopython to load PDB files and extract information"
   ]
  },
  {
   "cell_type": "markdown",
   "metadata": {},
   "source": [
    "##  <font color = 545AA7> 1. Download a PDB File </font>\n",
    "\n",
    "To  download a PDB file, go to the Protein Data Bank website at [https://www.rcsb.org/](https://www.rcsb.org/) and <font color = F28500> download the data on a protein of your choice in the PDB Format </font>. If you can't decide on a protein, go ahead and pick their latest entry (bottom left of webpage). Move this downloaded file into the **02 Biopython** folder with this Jupyter notebook."
   ]
  },
  {
   "cell_type": "code",
   "execution_count": null,
   "metadata": {},
   "outputs": [],
   "source": [
    "from IPython.display import Image\n",
    "Image(\"download_PDB.png\", width=400)"
   ]
  },
  {
   "cell_type": "markdown",
   "metadata": {},
   "source": [
    "##  <font color = 545AA7> 2. PDB Format and Parsing </font>\n",
    "\n",
    "While some other bioinformatics file formats online include mainly sequence data, the PDB file format provides an assortmet of information including:\n",
    "\n",
    "- amino acid sequence\n",
    "- non-amino acid species\n",
    "- xyz coordinates of atoms indentified in structure (does not typically include hydrogens)\n",
    "- metadata about the protein (e.g., host specie and protein class)\n",
    "- information about secondary structures\n",
    "\n",
    "PDB files are text files with the data arranged with specific labels and seperated by strictly-delineated *position* in a line in the file. For more information on PDB file formats, see [https://www.cgl.ucsf.edu/chimera/docs/UsersGuide/tutorials/pdbintro.html](https://www.cgl.ucsf.edu/chimera/docs/UsersGuide/tutorials/pdbintro.html).\n",
    "\n",
    "There are multiple ways of **parsing** data (i.e., seperating data into pieces) from the PDB files. In this activity, we will use the biopython library's PDB reading capabilities. First, we need to import the **PDB module** of the biopython library with the `import Bio.PDB` import command.\n",
    "\n",
    "#### <font color = F28500> Be sure to run the following code cell. </font>"
   ]
  },
  {
   "cell_type": "code",
   "execution_count": null,
   "metadata": {},
   "outputs": [],
   "source": [
    "import Bio.PDB"
   ]
  },
  {
   "cell_type": "markdown",
   "metadata": {},
   "source": [
    "To parse the PDB file, we first create a **parser object** using the `Bio.PDB.PDBParser()` function. Like previous functions, we need to include the name of the library/module it is in, so in this case, `Bio.PDB.PDBParser()` means the `PDBParser()` function in the `PDB` module of the `Bio` (biopython) library. Think of this like a directory system of nested folders on your computer (e.g., /User/Documents/Python_Projects).\n",
    "\n",
    "We will also want to attach our parser object to a variable using the `=` symbol the same way we attach a number to a variable. Run the following code in a code cell.\n",
    "\n",
    "`parser = Bio.PDB.PDBParser()`"
   ]
  },
  {
   "cell_type": "code",
   "execution_count": null,
   "metadata": {},
   "outputs": [],
   "source": [
    "parser = Bio.PDB.PDBParser()"
   ]
  },
  {
   "cell_type": "markdown",
   "metadata": {},
   "source": [
    "Let's now use the `PDBParser().get_structure()` function to parse a single PDB. By default, <u> any code run in a Jupyter notebook will look in the same directory (i.e., folder) as the Jupyter notebook for the file </u>. We will use the `get_structure()` function as follows. This function requires two inputs: the first is some name you provide in quotes (singel or double) followed by the full name of the file in quotes.\n",
    "\n",
    "`parser.get_structure('name', 'file_name.pdb')`"
   ]
  },
  {
   "cell_type": "code",
   "execution_count": null,
   "metadata": {},
   "outputs": [],
   "source": []
  },
  {
   "cell_type": "markdown",
   "metadata": {},
   "source": [
    "##  <font color = 545AA7> 3. Metadata </font>\n",
    "\n",
    "The data is now attached to the `structure` variable. This includes both the structural data about the protein and **metadata** which is data about the data. For example, we can extract the **keywords** about the protein using `structure.header[<key>]` where <key> is the specific information you are looking for. For example, if you want the keywords from the header, you can insert `keywords`. Give it a try.\n",
    "    \n",
    "`structure.header['keywords']`    "
   ]
  },
  {
   "cell_type": "code",
   "execution_count": null,
   "metadata": {},
   "outputs": [],
   "source": []
  },
  {
   "cell_type": "markdown",
   "metadata": {},
   "source": [
    "<font color = F28500> To see what other metadata is available, try typing `structure.header[]` in a code cell, place the cursor inside the `[]` brackets, and type the **Tab** key. A dialogue box will apear showing you all the options avialable. </font>"
   ]
  },
  {
   "cell_type": "code",
   "execution_count": null,
   "metadata": {},
   "outputs": [],
   "source": []
  },
  {
   "cell_type": "markdown",
   "metadata": {},
   "source": [
    "##  <font color = 545AA7> 4. Examining the Data </font>\n",
    "\n",
    "\n",
    "The structural data extracted from the PDB by biopython is organized in a heierarchy starting with the **structure** $\\rightarrow$ **model** $\\rightarrow$ **chain** $\\rightarrow$ **residue** $\\rightarrow$ **atom**. The structure is the protein, the model is a particular 3D model of the protein, the chain is a single peptide chain in the protein, the residue is an amino acid residue in the chain, and the atom is each atom within a given chain. \n",
    "\n",
    "| Level    |    Description      |\n",
    "|:----------:|:---------------------|\n",
    "|Structure   | Protein strucutre; may contain multiple models     |\n",
    "|Model       | Particular 3D model of the protein  |\n",
    "|Chain       | Each pepetide chain in the protein  |\n",
    "|Residue     | Amino acid residue in a given chain |\n",
    "|Atom        | Atoms in a particular peptide chain |\n",
    "\n",
    "While PDB files can contain multiple structures of a protein, most only contain one. Even though there is only one model in our data, we will need to access the first (and only) model using indexing. In square brackets `[]` behind the variable, give the number of the item you want to access. In Python indexing, numbering starts with zero, so the first protein model is `structure[0]`. If there were a second, it would be `structure[1]`.\n",
    "\n",
    "<font color = F28500> Assigne the first model in the structure and attach your model to a variable for later use. You will want to select an intuative variable name. Let's go with `protein_model`. </font>"
   ]
  },
  {
   "cell_type": "code",
   "execution_count": null,
   "metadata": {},
   "outputs": [],
   "source": []
  },
  {
   "cell_type": "markdown",
   "metadata": {},
   "source": [
    "Next, we will examine the chains in the protein model. Proteins can have single peptide chain but often contain multiple chains. Use the Python `len()` length function to see how many chains are contained in "
   ]
  },
  {
   "cell_type": "code",
   "execution_count": null,
   "metadata": {},
   "outputs": [],
   "source": []
  },
  {
   "cell_type": "markdown",
   "metadata": {},
   "source": [
    "Alternatively, a `for` loop can run through your protein model to see how many chains are in it. The code below systematically goes through ever chain in the `protein_model`, assigns in to the variable `chain`, and then prints (i.e., displays on the screen) the information."
   ]
  },
  {
   "cell_type": "code",
   "execution_count": null,
   "metadata": {},
   "outputs": [],
   "source": [
    "for chain in protein_model:\n",
    "    print(chain)"
   ]
  },
  {
   "cell_type": "markdown",
   "metadata": {},
   "source": [
    "To access a particular chain, use the chain's `id`. For example, to access Chain A, type `protein_model['A']`. <font color = F28500> Select the first chain and attach its information to an intuative variable `chain_A`. </font>"
   ]
  },
  {
   "cell_type": "code",
   "execution_count": null,
   "metadata": {},
   "outputs": [],
   "source": []
  },
  {
   "cell_type": "markdown",
   "metadata": {},
   "source": [
    "Next, go ahead and create a `for` loop to iterate through your chain to see what residues it contains.\n",
    "\n",
    "`for residue in <chain>:\n",
    "     print(residue)`"
   ]
  },
  {
   "cell_type": "code",
   "execution_count": null,
   "metadata": {},
   "outputs": [],
   "source": [
    "for res in chain_A:\n",
    "    print(res)"
   ]
  },
  {
   "cell_type": "markdown",
   "metadata": {},
   "source": [
    "You can access a specific amino acid residue using the residue number in square brackets like below. <font color = F28500> Try accessing residue 58 and attach it to a variable.\n",
    "\n",
    "`chain_A[#]`"
   ]
  },
  {
   "cell_type": "code",
   "execution_count": null,
   "metadata": {},
   "outputs": [],
   "source": []
  },
  {
   "cell_type": "code",
   "execution_count": null,
   "metadata": {},
   "outputs": [],
   "source": []
  },
  {
   "cell_type": "markdown",
   "metadata": {},
   "source": [
    "We can learn about the residue using a series of functions (known as **methods**) for the residue. A list of a few is included below. You can learn about others by placing the curor behind the residue variable and pressing `Tab`.\n",
    "\n",
    "\n",
    "| Method    |    Description      |\n",
    "|:----------:|:---------------------|\n",
    "|`res.get_resname()`   | Returns amino acid three-letter code     |\n",
    "|`res.get_unpacked_list()`| Returns list of **atoms** in residue |\n",
    "|`res.get_parent()`       | Returns parent chain name  |\n",
    "\n",
    "For example, if we want the name of the first residue of chain A that is attached to the `res58` variable, we can use the following code.\n",
    "\n",
    "`res58.get_resname()`\n",
    "\n",
    "<font color = F28500> Give this a try and also look at the list of atoms in the residue using one of the above methods. </font>"
   ]
  },
  {
   "cell_type": "code",
   "execution_count": null,
   "metadata": {},
   "outputs": [],
   "source": []
  },
  {
   "cell_type": "code",
   "execution_count": null,
   "metadata": {},
   "outputs": [],
   "source": []
  },
  {
   "cell_type": "markdown",
   "metadata": {},
   "source": [
    "We can learn about the specific atoms in a residue. To access an atom in a residue, place the atom name in square brackets `[]`. Each amino acid residue contains a nitrogen (`'N'`), $\\alpha$-carbon (`'CA'`), carbonyl carbon (`'C'`), and carbnyl oxygen (`'O'`). Some amino acids contain other non-hydrogen atoms whose name can be found using the `res.get_unpacked_list()` method described previously.  \n",
    "\n",
    "For example, to access the $\\alpha$-carbon in our amino acid residue,  <font color = F28500> type `res['CA']`. Give this a try below. </font>"
   ]
  },
  {
   "cell_type": "code",
   "execution_count": null,
   "metadata": {},
   "outputs": [],
   "source": []
  },
  {
   "cell_type": "markdown",
   "metadata": {},
   "source": [
    "Additional information about each atom can be found using the following functions.\n",
    "\n",
    "| Method    |    Description      |\n",
    "|:----------:|:---------------------|\n",
    "|`atom.get_coord()`   |  Returns atom 3D xyx coordinates  |\n",
    "|`atom.get_vector()`  |  Returns atoms #D xyz coordinates as a vector object  |\n",
    "|`atom.get_name()`| Returns atom name (e.g, 'C' |\n",
    "|`atom.get_charge()` | Returns atom charge (if applicable)  |\n",
    "|`atom.get_parent()`       | Returns parent residue information  |\n",
    "\n",
    "\n",
    "For example, to obtain the 3D x,y,z coordinates of the $\\alpha$-carbon, type `res['CA'].get_coord()` \n",
    "\n",
    "<font color = F28500> Use the functions above to obtain the name and xyz coordinates for the nitrogen atom of your amino acid residue. </font>"
   ]
  },
  {
   "cell_type": "code",
   "execution_count": null,
   "metadata": {},
   "outputs": [],
   "source": []
  },
  {
   "cell_type": "code",
   "execution_count": null,
   "metadata": {},
   "outputs": [],
   "source": []
  },
  {
   "cell_type": "code",
   "execution_count": null,
   "metadata": {},
   "outputs": [],
   "source": []
  },
  {
   "cell_type": "markdown",
   "metadata": {},
   "source": [
    "To calculation the distance between atoms, perform a substraction to turn the distance in angstroms. Below is the calculation for finding the distance between the  $\\alpha$-carbon and the carbonyl carbon.\n",
    "\n",
    "`res['CA'] - res['C']`\n",
    "\n",
    "<font color = F28500> Run the code below and then write your own code in the next cell to calculate the distance between the alpha carbon and nitrogen atom. </font>"
   ]
  },
  {
   "cell_type": "code",
   "execution_count": null,
   "metadata": {},
   "outputs": [],
   "source": []
  },
  {
   "cell_type": "markdown",
   "metadata": {},
   "source": [
    "##  <font color = 545AA7> 5. Examining Peptide Chains </font>\n",
    "\n",
    "\n",
    "Look at and visualize the amino acid residue distribution in our protein. Below is code that you can run that iterates through the peptides and adds each amino acid residue identity to a list called `amino_acids`."
   ]
  },
  {
   "cell_type": "code",
   "execution_count": null,
   "metadata": {},
   "outputs": [],
   "source": [
    "amino_acids = []  # empty list to add the amino acids to\n",
    "\n",
    "parser = Bio.PDB.PDBParser()\n",
    "structure = parser.get_structure('6x8j', '6x8j.pdb')\n",
    "pp = Bio.PDB.PPBuilder().build_peptides(structure[0])\n",
    "\n",
    "# go through each chain and residue and append the amino acid identity to the list\n",
    "for chain in pp:\n",
    "    for res in chain:\n",
    "        res_name = res.get_resname()\n",
    "        amino_acids.append(res_name)"
   ]
  },
  {
   "cell_type": "code",
   "execution_count": null,
   "metadata": {},
   "outputs": [],
   "source": [
    "import seaborn as sns\n",
    "sns.countplot(x=amino_acids, color='C00')\n",
    "plt.xticks(rotation=90)"
   ]
  },
  {
   "cell_type": "code",
   "execution_count": null,
   "metadata": {},
   "outputs": [],
   "source": []
  }
 ],
 "metadata": {
  "kernelspec": {
   "display_name": "Python 3",
   "language": "python",
   "name": "python3"
  },
  "language_info": {
   "codemirror_mode": {
    "name": "ipython",
    "version": 3
   },
   "file_extension": ".py",
   "mimetype": "text/x-python",
   "name": "python",
   "nbconvert_exporter": "python",
   "pygments_lexer": "ipython3",
   "version": "3.8.5"
  }
 },
 "nbformat": 4,
 "nbformat_minor": 4
}
